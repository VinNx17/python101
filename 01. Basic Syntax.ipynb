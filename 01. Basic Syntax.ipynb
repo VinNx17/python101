{
 "cells": [
  {
   "cell_type": "markdown",
   "metadata": {},
   "source": [
    "# <font color='orange'>BASIC SYNTAX</font>\n",
    "Python merupakan bahasa pemrograman yang memiliki sintaks sederhana dan mudah dimengerti."
   ]
  },
  {
   "cell_type": "markdown",
   "metadata": {},
   "source": [
    "### 1. Statement (Pernyataan)\n",
    "Semua perintah yang bisa dieksekusi oleh Python disebut statement. Penulisan satu statement di dalam python tidak diakhiri dengan tanda titik koma (;) . Statement pada python dinyatakan dalam satu baris. Sehingga, akhir dari sebuah pernyataan adalah garis baru (newline)."
   ]
  },
  {
   "cell_type": "code",
   "execution_count": 40,
   "metadata": {},
   "outputs": [
    {
     "name": "stdout",
     "output_type": "stream",
     "text": [
      "Teknik Elketro\n",
      "Universitas Jember\n"
     ]
    }
   ],
   "source": [
    "print(\"Teknik Elketro\")\n",
    "print(\"Universitas Jember\")"
   ]
  },
  {
   "cell_type": "markdown",
   "metadata": {},
   "source": [
    "### 2. Statement Multibaris \n",
    "\n",
    "Di Python, akhir dari sebuah statement adalah karakter baris baru (newline). Kita dapat membuat sebuah statement terdiri dari beberapa baris dengan menggunakan tanda backslash ( \\ ). Misalnya:"
   ]
  },
  {
   "cell_type": "code",
   "execution_count": 41,
   "metadata": {},
   "outputs": [
    {
     "name": "stdout",
     "output_type": "stream",
     "text": [
      "Luas= 12\n"
     ]
    }
   ],
   "source": [
    "panjang= 6\n",
    "lebar= 2\n",
    "luas= panjang*\\\n",
    "lebar\n",
    "print(\"Luas=\",luas)"
   ]
  },
  {
   "cell_type": "markdown",
   "metadata": {},
   "source": [
    "Statement yang ada di dalam tanda kurung [ ], { }, dan ( ) tidak memerlukan tanda \\\\ . Contohnya:"
   ]
  },
  {
   "cell_type": "code",
   "execution_count": 43,
   "metadata": {},
   "outputs": [
    {
     "name": "stdout",
     "output_type": "stream",
     "text": [
      "Luas= 50\n"
     ]
    }
   ],
   "source": [
    "panjang= 10\n",
    "lebar= 5\n",
    "luas= (panjang*\n",
    "       lebar)\n",
    "print(\"Luas=\",luas)"
   ]
  },
  {
   "cell_type": "markdown",
   "metadata": {},
   "source": [
    "### 3. Baris dan Identasi\n",
    "Python tidak menggunakan tanda { } untuk menandai blok / grup kode. Blok kode di python menggunakan tanda indentasi (spasi). Jumlah spasi untuk setiap baris yang ada dalam satu blok kode harus sama. Contoh yang benar adalah sebagai berikut:"
   ]
  },
  {
   "cell_type": "code",
   "execution_count": 35,
   "metadata": {},
   "outputs": [
    {
     "name": "stdout",
     "output_type": "stream",
     "text": [
      "Nilai merah\n",
      "Tidak lulus\n"
     ]
    }
   ],
   "source": [
    "nilai=4\n",
    "if nilai <= 5:\n",
    "    print(\"Nilai merah\")\n",
    "    print(\"Tidak lulus\")\n",
    "else:\n",
    "    print(\"Nilai biru\")\n",
    "    print(\"Lulus\")"
   ]
  },
  {
   "cell_type": "markdown",
   "metadata": {},
   "source": [
    "### 4. Tanda Petik\n",
    "Python menggunakan tanda kutip tunggal (‘), ganda (“), maupun triple (”’ atau “””) untuk menandai string, sepanjang stringnya diawali oleh tanda kutip yang sama di awal dan akhir string."
   ]
  },
  {
   "cell_type": "code",
   "execution_count": 50,
   "metadata": {},
   "outputs": [
    {
     "name": "stdout",
     "output_type": "stream",
     "text": [
      "python python python python\n"
     ]
    }
   ],
   "source": [
    "a= 'python'\n",
    "b= \"python\"\n",
    "c= '''python'''\n",
    "d= \"\"\"python\"\"\"\n",
    "print(a,b,c,d)"
   ]
  },
  {
   "cell_type": "markdown",
   "metadata": {},
   "source": [
    "### 5. Komentar\n",
    "Tanda pagar ( # ) digunakan untuk menandai komentar di python. Komentar tidak akan diproses oleh interpreter Python. Komentar hanya berguna untuk programmer untuk memudahkan memahami maksud dari kode."
   ]
  },
  {
   "cell_type": "code",
   "execution_count": 64,
   "metadata": {},
   "outputs": [
    {
     "name": "stdout",
     "output_type": "stream",
     "text": [
      "hello world!\n"
     ]
    }
   ],
   "source": [
    "\"\"\"komentar \n",
    "multibaris\"\"\"\n",
    "print(\"hello world!\") #komentar satu baris"
   ]
  }
 ],
 "metadata": {
  "kernelspec": {
   "display_name": "Python 3 (ipykernel)",
   "language": "python",
   "name": "python3"
  },
  "language_info": {
   "codemirror_mode": {
    "name": "ipython",
    "version": 3
   },
   "file_extension": ".py",
   "mimetype": "text/x-python",
   "name": "python",
   "nbconvert_exporter": "python",
   "pygments_lexer": "ipython3",
   "version": "3.9.6"
  }
 },
 "nbformat": 4,
 "nbformat_minor": 4
}
