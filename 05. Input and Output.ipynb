{
 "cells": [
  {
   "cell_type": "markdown",
   "id": "4d7450c1",
   "metadata": {},
   "source": [
    "# <font color='orange'>Input and Output</font>\n",
    "Python menyediakan banyak fungsi built-in yang bisa kita pergunakan. Salah satunya adalah yang berkenaan dengan fungsi i/o atau input output.\n",
    "\n",
    "Fungsi bawaan untuk melakukan operasi output adalah print(), dan fungsi untuk melakukan operasi input adalah fungsi input(). "
   ]
  },
  {
   "cell_type": "markdown",
   "id": "6476092f",
   "metadata": {},
   "source": [
    "### Output \n",
    "Seperti yang sudah sering kita praktekkan, kita menggunakan fungsi print() untuk menampilkan data ke perangkat keluaran standar (layar)."
   ]
  },
  {
   "cell_type": "code",
   "execution_count": 1,
   "id": "8d8f2f55",
   "metadata": {},
   "outputs": [
    {
     "name": "stdout",
     "output_type": "stream",
     "text": [
      "Kalimat ini dicetak ke layar\n",
      "Nilai a = 15\n"
     ]
    }
   ],
   "source": [
    "# output: Kalimat ini dicetak ke layar \n",
    "print(\"Kalimat ini dicetak ke layar\") \n",
    "\n",
    "a = 15 \n",
    "# output: Nilai a = 15 \n",
    "print(\"Nilai a =\", a) "
   ]
  },
  {
   "cell_type": "markdown",
   "id": "2fac3eba",
   "metadata": {},
   "source": [
    "Selain mencetak ke layar, kita juga bisa menggunakan fungsi print() untuk mencetak data ke file.\n",
    "\n",
    "Sintaks lengkap dari fungsi print() adalah seperti berikut: <br/>\n",
    "<font color='red'>print(*objects, sep=' ', end='\\n')</font>\n",
    "\n",
    "a.objects adalah nilai yang hendak dicetak. Fungsi print() akan mengubah semua objek menjadi string terlebih dahulu sebelum dicetak. <br/>\n",
    "b.sep adalah pemisah(separator) yang berfungsi sebagai tanda pemisah antar objek yang dicetak. Defaultnya adalah tanda spasi. <br/>\n",
    "c.end adalah karakter yang dicetak di akhir baris. Defaultnya adalah tanda newline (baris baru). <br/>"
   ]
  },
  {
   "cell_type": "code",
   "execution_count": 2,
   "id": "43b09502",
   "metadata": {},
   "outputs": [
    {
     "name": "stdout",
     "output_type": "stream",
     "text": [
      "1 3 5 7\n",
      "1*2*3*4\n",
      "1#2#3#4&"
     ]
    }
   ],
   "source": [
    "print(1, 3, 5, 7) \n",
    "# output: 1 3 5 7 \n",
    "\n",
    "print(1,2,3,4, sep='*') \n",
    "# output: 1*2*3*4 \n",
    "\n",
    "print(1,2,3,4, sep='#', end='&') \n",
    "# output: 1#2#3#4& "
   ]
  },
  {
   "cell_type": "markdown",
   "id": "66e3ddce",
   "metadata": {},
   "source": [
    "### Input\n",
    "Agar program kita lebih interaktif, kita bisa meminta input atau masukan dari user. Python memiliki fungsi input() untuk melakukan hal tersebut. Sintaksnya adalah seperti berikut: <br/>\n",
    "<font color='red'>input([prompt])</font> <br/>\n",
    "prompt bersifat opsional berfungsi sebagai string yang kita ingin tampilkan di layar. Agar inputannya tidak langsung hilang, maka harus disimpan ke dalam variabel. Perhatikan contoh berikut:"
   ]
  },
  {
   "cell_type": "code",
   "execution_count": 4,
   "id": "e6028814",
   "metadata": {},
   "outputs": [
    {
     "name": "stdout",
     "output_type": "stream",
     "text": [
      "Masukkan nama: Umar\n",
      "Umar\n"
     ]
    }
   ],
   "source": [
    "name = input('Masukkan nama: ')\n",
    "print(name)"
   ]
  },
  {
   "cell_type": "markdown",
   "id": "41f1a162",
   "metadata": {},
   "source": [
    "Bila kita menginput bilangan, misalnya integer lewat fungsi input(), maka hasil inputan tersebut adalah string dan bukan integer. Kita harus mengubahnya terlebih dahulu menjadi tipe integer menggunakan fungsi int()."
   ]
  },
  {
   "cell_type": "code",
   "execution_count": 7,
   "id": "9a18272a",
   "metadata": {},
   "outputs": [
    {
     "name": "stdout",
     "output_type": "stream",
     "text": [
      "Masukkan nilai panjang: 10\n",
      "Masukkan nilai lebar: 5\n",
      "Luas = 50\n"
     ]
    }
   ],
   "source": [
    "panjang = input('Masukkan nilai panjang: ')\n",
    "lebar = input('Masukkan nilai lebar: ')\n",
    "luas = int(panjang) * int(lebar)\n",
    "print(\"Luas =\", luas)"
   ]
  }
 ],
 "metadata": {
  "kernelspec": {
   "display_name": "Python 3 (ipykernel)",
   "language": "python",
   "name": "python3"
  },
  "language_info": {
   "codemirror_mode": {
    "name": "ipython",
    "version": 3
   },
   "file_extension": ".py",
   "mimetype": "text/x-python",
   "name": "python",
   "nbconvert_exporter": "python",
   "pygments_lexer": "ipython3",
   "version": "3.9.6"
  }
 },
 "nbformat": 4,
 "nbformat_minor": 5
}
