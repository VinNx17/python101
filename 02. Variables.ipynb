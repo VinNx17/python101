{
 "cells": [
  {
   "cell_type": "markdown",
   "id": "428f533a",
   "metadata": {},
   "source": [
    "# <font color='orange'>Variables</font>\n",
    "Variabel adalah lokasi di memori yang digunakan untuk menyimpan nilai. Pada saat kita membuat sebuah variabel, kita ‘memesan’ tempat di dalam memori. Tempat tersebut bisa diisi dengan data atau objek, baik itu bilangan bulat (integer), pecahan (float), karakter (string), dan lain – lain."
   ]
  },
  {
   "cell_type": "markdown",
   "id": "48a95e75",
   "metadata": {},
   "source": [
    "### 1. Memberi Nilai Variabel\n",
    "Pada python, variabel tidak perlu dideklarasikan secara eksplisit. Deklarasi atau pembuatan variabel terjadi secara otomatis pada saat kita memberi (menugaskan) suatu nilai ke variabel. Tanda sama dengan ( = ) digunakan untuk memberikan nilai ke variabel.\n",
    "\n",
    "Operand di sebelah kiri tanda = adalah nama variabel dan di sebelah kanan tanda = adalah nilai yang disimpan di dalam variabel. Sebagai contoh:"
   ]
  },
  {
   "cell_type": "code",
   "execution_count": 6,
   "id": "c9d75b05",
   "metadata": {},
   "outputs": [
    {
     "name": "stdout",
     "output_type": "stream",
     "text": [
      "100\n",
      "21.5\n",
      "Umar\n"
     ]
    }
   ],
   "source": [
    "panjang = 100 # tipe data integer\n",
    "lebar = 21.5 # tipe data float\n",
    "nama = \"Umar\" # tipe string\n",
    "print(panjang)\n",
    "print(lebar) #int(lebar) untuk merubah float ke int | \"{:.2f}\".format(lebar) untuk atur 2 angka dibelakang koma\n",
    "print(nama)"
   ]
  },
  {
   "cell_type": "markdown",
   "id": "c7dd1ffc",
   "metadata": {},
   "source": [
    "### 2. Multi Penugasan\n",
    "Kita bisa memberi nilai ke beberapa variabel secara bersamaan seperti berikut."
   ]
  },
  {
   "cell_type": "code",
   "execution_count": 2,
   "id": "bfae5c4d",
   "metadata": {},
   "outputs": [
    {
     "name": "stdout",
     "output_type": "stream",
     "text": [
      "3 3 3\n"
     ]
    }
   ],
   "source": [
    "x = y = z = 3\n",
    "print(x,y,z)"
   ]
  },
  {
   "cell_type": "markdown",
   "id": "b50eba6a",
   "metadata": {},
   "source": [
    "Pada contoh di atas, kita menciptakan sebuah objek integer, yaitu bilangan 3, dan kemudian kita menugaskan ketiga variabel untuk menunjuk ke lokasi yang sama yang berisi 3.\n",
    "\n",
    "Kita juga bisa menugaskan masing – masing variabel ke objek yang berbeda dalam sebaris perintah. Sebagai contoh:"
   ]
  },
  {
   "cell_type": "code",
   "execution_count": 28,
   "id": "10de673a",
   "metadata": {},
   "outputs": [
    {
     "name": "stdout",
     "output_type": "stream",
     "text": [
      "1 3.4 Umar\n"
     ]
    }
   ],
   "source": [
    "a, b, c = 1, 3.4, \"Umar\"\n",
    "print(a,b,c)"
   ]
  }
 ],
 "metadata": {
  "kernelspec": {
   "display_name": "Python 3 (ipykernel)",
   "language": "python",
   "name": "python3"
  },
  "language_info": {
   "codemirror_mode": {
    "name": "ipython",
    "version": 3
   },
   "file_extension": ".py",
   "mimetype": "text/x-python",
   "name": "python",
   "nbconvert_exporter": "python",
   "pygments_lexer": "ipython3",
   "version": "3.9.6"
  }
 },
 "nbformat": 4,
 "nbformat_minor": 5
}
