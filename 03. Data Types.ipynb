{
 "cells": [
  {
   "cell_type": "markdown",
   "id": "428f533a",
   "metadata": {},
   "source": [
    "# <font color='orange'>Data Types</font>\n",
    "Data yang disimpan di memori memiliki tipe yang berbeda – beda. Misalnya untuk panjang, akan disimpan dengan tipe bilangan. Nama orang akan disimpan dalam tipe string/karakter. Suhu akan disimpan dalam bentuk bilangan berkoma. Dan lain sebagainya. Masing – masing tipe data akan memiliki operasi yang berbeda – beda.\n",
    "\n",
    "Python memiliki enam tipe data standar atau paling sering digunakan, yaitu:\n",
    "\n",
    "<li>Bilangan (Number) <br/>\n",
    "<li>String <br/>\n",
    "<li>List <br/>\n",
    "<li>Tuple <br/>\n",
    "<li>Set <br/>\n",
    "<li>Dictionary"
   ]
  },
  {
   "cell_type": "markdown",
   "id": "a5f55415",
   "metadata": {},
   "source": [
    "### 1. Bilangan\n",
    "Tipe data bilangan yang umum ada 2 yaitu, integer dan float. Integer adalah bilangan bulat, sedangkan float adalah bilangan pecahan. Selain itu ada tipe bilangan lain, yaitu bilangan kompleks yaitu bilangan yang memiliki bagian real dan imajiner. Integer, float, dan kompleks masing-masing di Python diwakili oleh kelas int, float, dan complex.\n",
    "\n",
    "Kita bisa menggunakan fungsi type() untuk mengetahui tipe data suatu objek di python."
   ]
  },
  {
   "cell_type": "code",
   "execution_count": 20,
   "id": "05bfab46",
   "metadata": {},
   "outputs": [
    {
     "name": "stdout",
     "output_type": "stream",
     "text": [
      "5 tipenya adalah  <class 'int'>\n",
      "2.0 tipenya adalah  <class 'float'>\n",
      "(1+2j) tipenya adalah  <class 'complex'>\n"
     ]
    }
   ],
   "source": [
    "x = 5 \n",
    "print(x, \"tipenya adalah \", type(x))\n",
    "x = 2.0\n",
    "print(x, \"tipenya adalah \", type(x))\n",
    "x = 1+2j\n",
    "print(x, \"tipenya adalah \",type(x))"
   ]
  },
  {
   "cell_type": "markdown",
   "id": "cc892657",
   "metadata": {},
   "source": [
    "### 2. String\n",
    "String adalah satu atau serangkaian karakter yang diletakkan diantara tanda kutip, baik tanda kutip tunggal ( ‘ ) maupun ganda ( ” ). Huruf, angka, maupun karakter lainnya yang digabung menjadi teks adalah contoh string.\n",
    "\n",
    "String adalah tipe data yang anggotanya berurut dan memiliki indeks. Indeks dimulai dari angka 0 bila dimulai dari depan dan -1 bila diindeks dari belakang. Tiap karakter bisa diakses menggunakan indeksnya dengan formatnamastring[indeks] . Pada string juga bisa dilakukan slicing atau mengakses sekelompok substring dengan format namastring[awal:akhir]. Untuk jelasnya bisa diperhatikan contoh berikut."
   ]
  },
  {
   "cell_type": "code",
   "execution_count": 11,
   "id": "cb1f95ad",
   "metadata": {},
   "outputs": [
    {
     "name": "stdout",
     "output_type": "stream",
     "text": [
      "0123456789\n",
      "0\n",
      "9\n",
      "456\n",
      "0123\n"
     ]
    }
   ],
   "source": [
    "kalimat = \"0123456789\"\n",
    "\n",
    "print(kalimat)      # print string lengkap\n",
    "print(kalimat[0])   # print karakter pertama\n",
    "print(kalimat[-1])  # print karakter terakhir\n",
    "print(kalimat[4:7]) # print dari indeks 4 - 6\n",
    "print(kalimat[:4])  # print dari indeks 0 - 3"
   ]
  },
  {
   "cell_type": "markdown",
   "id": "4778c449",
   "metadata": {},
   "source": [
    "### 3. List\n",
    "List adalah tipe data yang berisi item yang berurut. Seperti halnya tipe data string, tiap item (anggota) list memiliki indeks sesuai dengan urutannya. Indeks dimulai dari 0 dan bukan dari 1.\n",
    "\n",
    "List bisa berisi anggota dengan tipe yang sama maupun berbeda. Untuk mendeklarasikan list, digunakan tanda kurung [ ] dan masing-masing anggotanya dipisahkan oleh tanda koma.\n",
    "\n",
    "Untuk mengakses item dari list caranya adalah dengan memanggil nama list diikuti indeks dari item yang bersangkutan, yaitu dengan format namalist[index]\n",
    "Selain itu bisa juga dilakukan pengaksesan terhadap sejumlah item dari indeks ke indeks. Hal ini disebut slicing. Contohnya sebagai berikut:"
   ]
  },
  {
   "cell_type": "code",
   "execution_count": 12,
   "id": "84af96ab",
   "metadata": {},
   "outputs": [
    {
     "name": "stdout",
     "output_type": "stream",
     "text": [
      "a[2] =  2\n",
      "a[0:3] =  [0, 1, 2]\n",
      "a[5:] =  [5, 6, 7, 8, 9]\n",
      "a[:4] =  [0, 1, 2, 3]\n",
      "[0, 1, 99, 3, 4, 5, 6, 7, 8, 9]\n"
     ]
    }
   ],
   "source": [
    "a = [0,1,2,3,4,5,6,7,8,9]\n",
    "\n",
    "print(\"a[2] = \", a[2])\n",
    "\n",
    "print(\"a[0:3] = \", a[0:3])\n",
    "\n",
    "print(\"a[5:] = \", a[5:]) \n",
    "\n",
    "print(\"a[:4] = \", a[:4])\n",
    "#a[2]=99\n",
    "#print(a)"
   ]
  },
  {
   "cell_type": "markdown",
   "id": "265cb479",
   "metadata": {},
   "source": [
    "### 4. Tuple\n",
    "Tuple adalah jenis data lain yang mirip dengan list. Perbedaannya dengan list adalah anggotanya tidak bisa diubah (immutable). List bersifat mutable, sedangkan tuple bersifat immutable. Sekali tuple dibuat, maka isinya tidak bisa dimodifikasi lagi.\n",
    "\n",
    "Tuple dideklarasikan dengan menggunakan tanda kurung ( ). dan anggotanya dipisahkan oleh tanda koma. Tuple berguna untuk data yang dimaksudkan tidak diubah isinya. Misalnya tuple komposisi warna untuk putih adalah (255,255,255).\n",
    "\n",
    "Seperti halnya list, kita bisa mengakses anggota tuple dengan menggunakan indeksnya."
   ]
  },
  {
   "cell_type": "code",
   "execution_count": 14,
   "id": "5495d927",
   "metadata": {},
   "outputs": [
    {
     "name": "stdout",
     "output_type": "stream",
     "text": [
      "(255, 255, 255)\n",
      "255\n",
      "0\n"
     ]
    }
   ],
   "source": [
    "white = (255,255,255)\n",
    "red = (255,0,0)\n",
    "print(white)\n",
    "print(red[0])\n",
    "print(red[1])\n",
    "\n",
    "# jika merubah isinya akan menghasilkan error\n",
    "# tuple bersifat immutable\n",
    "#red[0] = 128"
   ]
  },
  {
   "cell_type": "markdown",
   "id": "b32151ff",
   "metadata": {},
   "source": [
    "### 5. Set\n",
    "Set adalah salah satu tipe data di Python yang tidak berurut (unordered). Set memiliki anggota yang unik (tidak ada duplikasi). Jadi misalnya kalau kita meletakkan dua anggota yang sama di dalam set, maka otomatis set akan menghilangkan yang salah satunya.\n",
    "\n",
    "Set bisa digunakan untuk melakukan operasi himpunan matematika seperti gabungan, irisan, selisih, dan komplemen.\n",
    "\n",
    "Set dibuat dengan meletakkan anggota – anggotanya di dalam tanda kurung kurawal { }, dipisahkan menggunakan tanda koma. Kita juga bisa membuat set dari list dengan memasukkan list ke dalam fungsi set()\n",
    "\n",
    "Set bisa berisi data campuran, baik integer, float, string, dan lain sebagainya. Akan tetapi set tidak bisa berisi list, set, dan dictionary."
   ]
  },
  {
   "cell_type": "code",
   "execution_count": 15,
   "id": "0d742757",
   "metadata": {},
   "outputs": [
    {
     "name": "stdout",
     "output_type": "stream",
     "text": [
      "{1, 2, 3}\n",
      "{1, 2, 3}\n",
      "{1, 2.0, 'Python'}\n",
      "{1, 2, 3}\n"
     ]
    }
   ],
   "source": [
    "# set integer \n",
    "my_set = {1,2,3} \n",
    "print(my_set) \n",
    "\n",
    "# set dengan menggunakan fungsi set() \n",
    "my_set = set([1,2,3]) \n",
    "print(my_set) \n",
    "\n",
    "# set data campuran \n",
    "my_set = {1, 2.0, \"Python\"} \n",
    "print(my_set) \n",
    "\n",
    "# bila kita mengisi duplikasi, set akan menghilangkan salah satu \n",
    "# output: {1,2,3} \n",
    "my_set = {1,2,2,3,3,3} \n",
    "print(my_set) \n",
    "\n",
    "# set tidak bisa berisi anggota list \n",
    "# contoh berikut akan muncul error TypeError \n",
    "#my_set = {1,2,[3,4,5]} "
   ]
  },
  {
   "cell_type": "markdown",
   "id": "ff149117",
   "metadata": {},
   "source": [
    "### 6. Dictionary\n",
    "Dictionary adalah tipe data yang tiap anggotanya terdiri dari pasangan kunci-nilai (key-value). Mirip dengan kamus dimana ada kata ada arti. Dictionary umumnya dipakai untuk data yang besar dan untuk mengakses anggota data secara acak. Anggota dictionary tidak memiliki indeks.\n",
    "\n",
    "Dictionary dideklarasikan dengan menggunakan tanda kurung kurawal { }, dimana anggotanya memiliki bentuk kunci:nilai atau key:value dan tiap anggota dipisah tanda koma. Kunci dan nilainya bisa memiliki tipe sembarang.\n",
    "\n",
    "Untuk mengakses nilai dari anggota dictionary, kita menggunakan key-nya."
   ]
  },
  {
   "cell_type": "code",
   "execution_count": 17,
   "id": "0aa131f1",
   "metadata": {},
   "outputs": [
    {
     "name": "stdout",
     "output_type": "stream",
     "text": [
      "<class 'dict'>\n",
      "d[1] =  satu\n",
      "d['tiga'] =  3\n"
     ]
    }
   ],
   "source": [
    "d = {1:'satu', 2:'dua', 'tiga':3}\n",
    "print(type(d))\n",
    "print(\"d[1] = \", d[1])\n",
    "print(\"d['tiga'] = \", d['tiga'])\n",
    "\n",
    "#Error\n",
    "#print(\"d[3] = \", d[3])"
   ]
  },
  {
   "cell_type": "markdown",
   "id": "cd080507",
   "metadata": {},
   "source": [
    "#### *Beberapa Catatan …\n",
    "\n",
    "1.Tipe data sering disebut objek. Pada dasarnya semua hal di python adalah objek. <br/>\n",
    "2.Ada tipe data lain yang umumnya dimiliki oleh bahasa Python, yaitu tipe None. Tipe None adalah sebuah tipe data spesial yang menunjukkan bahwa nilai/data suatu variabel itu belum/tidak ada (bukan nol, tapi tidak ada). Pada bahasa pemrograman lain seperti C, atau PHP, tipe data ini disebut null.<br/>\n",
    "3.Tipe data string, tuple, dan list masuk ke dalam tipe data yang disebut tipe data berurut / ordered atau sekuensial / sequence. Tipe data dictionary disebut data tidak berurut / unordered. <br/>"
   ]
  }
 ],
 "metadata": {
  "kernelspec": {
   "display_name": "Python 3 (ipykernel)",
   "language": "python",
   "name": "python3"
  },
  "language_info": {
   "codemirror_mode": {
    "name": "ipython",
    "version": 3
   },
   "file_extension": ".py",
   "mimetype": "text/x-python",
   "name": "python",
   "nbconvert_exporter": "python",
   "pygments_lexer": "ipython3",
   "version": "3.9.6"
  }
 },
 "nbformat": 4,
 "nbformat_minor": 5
}
